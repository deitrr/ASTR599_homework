{
 "metadata": {
  "name": ""
 },
 "nbformat": 3,
 "nbformat_minor": 0,
 "worksheets": [
  {
   "cells": [
    {
     "cell_type": "heading",
     "level": 3,
     "metadata": {},
     "source": [
      "Requirements:"
     ]
    },
    {
     "cell_type": "raw",
     "metadata": {},
     "source": [
      "\u2022 Create a new notebook or a copy of the other one\n",
      "\u2022 Compute the expected number of stars per mass bin\n",
      "\u2022 Compute the mass enclosed in a given mass range\n",
      "\u2022 Be able to draw random masses from an IMF\n",
      "\u2022 What is the average mass predicted by an IMF?"
     ]
    },
    {
     "cell_type": "code",
     "collapsed": false,
     "input": [
      "import numpy as np\n",
      "import matplotlib.pyplot as plt\n",
      "%matplotlib inline"
     ],
     "language": "python",
     "metadata": {},
     "outputs": [],
     "prompt_number": 1
    },
    {
     "cell_type": "code",
     "collapsed": false,
     "input": [
      "\n",
      "class nmhwIMF(object):\n",
      "    \"\"\"\n",
      "    Nicholas Martin Hunt-Walker's IMF object class\n",
      "    Let you define an IMF as multiple power-laws\n",
      "    \"\"\"\n",
      "    \n",
      "    def __init__(self,power):\n",
      "        \"\"\"\n",
      "        Constructor function\n",
      "        p: the exponent(s) of the IMF power law\n",
      "            an array if more than one plaw\n",
      "        \"\"\"\n",
      "        Mlims = [0.08,120.0]\n",
      "        power = -power\n",
      "        norm = 1./((1./(1. + power))*(Mlims[-1]**(1.+power) - Mlims[0]**(1.+power)))\n",
      "        self.power = power\n",
      "        self.Mlims = Mlims\n",
      "        self.norm = norm\n",
      "        \n",
      "    def getAvgMass(self, Mmin, Mmax):\n",
      "        \"\"\"\n",
      "        Get the average mass over a given mass range\n",
      "        < M > = integral(M * imf * dM) / integral(imf * dM)\n",
      "        \"\"\"\n",
      "        Mmin = Mmin or self.Mlims[0]\n",
      "        Mmax = Mmax or self.Mlims[-1]\n",
      "        top = 1/(2+self.power) * (Mmax**(2+self.power) - Mmin**(2+self.power))\n",
      "        bottom = 1/(1+self.power) * (Mmax**(1+self.power) - Mmin**(1+self.power))\n",
      "        return top/bottom\n",
      "        \n",
      "    def getValue(self, m):\n",
      "        \"\"\"\n",
      "        Returns the value of the normalized IMF at a given mass m\n",
      "        Note: m can be iterable\n",
      "        \"\"\"\n",
      "        return self.norm*(m**self.power)\n",
      "    \n",
      "    def getEnclosedMass(self, Mmin, Mmax):\n",
      "        \"\"\"\n",
      "        Get the enclosed mass over a given mass range for N stars.\n",
      "        \"\"\"\n",
      "        Mmin = Mmin or self.Mlims[0]\n",
      "        Mmax = Mmax or self.Mlims[-1]\n",
      "        Mtot = 1./(2.+self.power)*(Mmax**(2. + self.power) - Mmin**(2. + self.power))*self.norm\n",
      "        return Mtot\n",
      "    \n",
      "    def getEnclosedNstar(self, Mmin, Mmax):\n",
      "        \"\"\"\n",
      "        Get the enclosed dN over a given mass range\n",
      "        \"\"\"\n",
      "        Mmin = Mmin or self.Mlims[0]\n",
      "        Mmax = Mmax or self.Mlims[-1]\n",
      "        Ntot = 1/(1+self.power)*(Mmax**(1 + self.power) - Mmin**(1 + self.power))*self.norm\n",
      "        return Ntot\n",
      "       \n",
      "    def random(self, N, Mmin, Mmax):\n",
      "        \"\"\"\n",
      "        Draw samples from this distribution.\n",
      "        Samples are distributed over the interval [massMin, massMax]\n",
      "        Interval is truncated to the IMF range definition if it extends beyond it.\n",
      "        N: the number of stars to be drawn from our IMF\n",
      "        Mmin: the lower limit of our mass range.\n",
      "            Default is self.Mrange[0]\n",
      "        Mmax: the upper limit of our mass range.\n",
      "            Default is self.Mrange[-1]\n",
      "        \"\"\"\n",
      "        Mmin = Mmin or self.Mlims[0]\n",
      "        Mmax = Mmax or self.Mlims[-1]\n",
      "        pass\n",
      "   \n",
      "    def plotImf(self, **kwargs):\n",
      "        plt.figure()\n",
      "        ax = plt.subplot(111)\n",
      "        Mrange = np.arange(self.Mlims[0],self.Mlims[-1])\n",
      "        dNdM = self.norm*Mrange**self.power\n",
      "        \n",
      "        plt.plot(Mrange,dNdM,c='b',ls='-', **kwargs)\n",
      "        plt.xlabel('Mass (M$_\\odot$)')\n",
      "        plt.ylabel('dN/dM')\n",
      "        ax.set_yscale('log'),ax.set_xscale('log')\n",
      "        plt.show()\n",
      "    \n",
      "    def __call__(self, m):\n",
      "        return self.getValue(m)\n",
      "        \n",
      "        \n",
      "        \n",
      "        "
     ],
     "language": "python",
     "metadata": {},
     "outputs": [],
     "prompt_number": 65
    },
    {
     "cell_type": "code",
     "collapsed": false,
     "input": [
      "imf = nmhwIMF(2.35)\n",
      "print 'dN/dM for Mass %.2f = %.3f' % (1.,imf.getValue(1.))\n",
      "print 'The average mass of the entire IMF is %.3f solar masses' % imf.getAvgMass(None,None)\n",
      "print 'dN/dM for the average mass = %.3f' % imf.getValue(imf.getAvgMass(2,5))\n",
      "print imf.norm\n",
      "print imf.power\n",
      "print imf.plotImf(marker='.')\n"
     ],
     "language": "python",
     "metadata": {},
     "outputs": [
      {
       "output_type": "stream",
       "stream": "stdout",
       "text": [
        "dN/dM for Mass 1.00 = 0.045\n",
        "The average mass of the entire IMF is 0.285 solar masses\n",
        "dN/dM for the average mass = 0.003\n",
        "0.0446198023184\n",
        "-2.35\n"
       ]
      },
      {
       "metadata": {},
       "output_type": "display_data",
       "png": "[encoded data removed]",
       "text": [
        "<matplotlib.figure.Figure at 0x1060e6690>"
       ]
      },
      {
       "output_type": "stream",
       "stream": "stdout",
       "text": [
        "None\n"
       ]
      }
     ],
     "prompt_number": 67
    },
    {
     "cell_type": "code",
     "collapsed": false,
     "input": [
      "low,high = 0.08,120\n",
      "print 'The total enclosed mass within %.1f to %.1f solar masses is %.2f' % (low,high,imf.getEnclosedMass(low,high))\n",
      "print 'We expect %f stars between %.2f and %.2f solar masses' % (imf.getEnclosedNstar(low,high),low,high)\n",
      "\n"
     ],
     "language": "python",
     "metadata": {},
     "outputs": [
      {
       "output_type": "stream",
       "stream": "stdout",
       "text": [
        "The total enclosed mass within 0.1 to 120.0 solar masses is 0.28\n",
        "We expect 1.000000 stars between 0.08 and 120.00 solar masses\n"
       ]
      }
     ],
     "prompt_number": 22
    },
    {
     "cell_type": "code",
     "collapsed": false,
     "input": [
      "print 1./ 0.0446"
     ],
     "language": "python",
     "metadata": {},
     "outputs": [
      {
       "output_type": "stream",
       "stream": "stdout",
       "text": [
        "22.4215246637\n"
       ]
      }
     ],
     "prompt_number": 46
    },
    {
     "cell_type": "code",
     "collapsed": false,
     "input": [
      "from scipy.integrate import simps\n",
      "x = np.linspace(0.08, 120., 200)\n",
      "N = simps( (x/0.08) ** -2.35, x, dx=x[1] - x[0]) \n",
      "print 1./N, 1./imf.norm\n",
      "simps( x * 0.0446 * (x) ** -2.35, x, dx=x[1] - x[0])\n"
     ],
     "language": "python",
     "metadata": {},
     "outputs": [
      {
       "output_type": "stream",
       "stream": "stdout",
       "text": [
        "3.88750190998 22.4115739658\n"
       ]
      },
      {
       "metadata": {},
       "output_type": "pyout",
       "prompt_number": 60,
       "text": [
        "0.49101130337844379"
       ]
      }
     ],
     "prompt_number": 60
    },
    {
     "cell_type": "code",
     "collapsed": false,
     "input": [
      "import this"
     ],
     "language": "python",
     "metadata": {},
     "outputs": [
      {
       "output_type": "stream",
       "stream": "stdout",
       "text": [
        "The Zen of Python, by Tim Peters\n",
        "\n",
        "Beautiful is better than ugly.\n",
        "Explicit is better than implicit.\n",
        "Simple is better than complex.\n",
        "Complex is better than complicated.\n",
        "Flat is better than nested.\n",
        "Sparse is better than dense.\n",
        "Readability counts.\n",
        "Special cases aren't special enough to break the rules.\n",
        "Although practicality beats purity.\n",
        "Errors should never pass silently.\n",
        "Unless explicitly silenced.\n",
        "In the face of ambiguity, refuse the temptation to guess.\n",
        "There should be one-- and preferably only one --obvious way to do it.\n",
        "Although that way may not be obvious at first unless you're Dutch.\n",
        "Now is better than never.\n",
        "Although never is often better than *right* now.\n",
        "If the implementation is hard to explain, it's a bad idea.\n",
        "If the implementation is easy to explain, it may be a good idea.\n",
        "Namespaces are one honking great idea -- let's do more of those!\n"
       ]
      }
     ],
     "prompt_number": 56
    },
    {
     "cell_type": "code",
     "collapsed": false,
     "input": [],
     "language": "python",
     "metadata": {},
     "outputs": []
    }
   ],
   "metadata": {}
  }
 ]
}