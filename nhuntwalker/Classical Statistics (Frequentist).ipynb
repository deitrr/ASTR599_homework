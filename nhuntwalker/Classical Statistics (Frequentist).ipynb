{
 "metadata": {
  "name": ""
 },
 "nbformat": 3,
 "nbformat_minor": 0,
 "worksheets": [
  {
   "cells": [
    {
     "cell_type": "markdown",
     "metadata": {
      "slideshow": {
       "slide_type": "slide"
      }
     },
     "source": [
      "A frequentist view (as opposed to a Bayesian view)\n",
      "\n",
      "\n",
      "**Probabilities**: relative frequency of events, parameters are fixed\n",
      "\n",
      "**Inference**: a 95% confidence means that for a large number of events 95% of the time they will bracket the answer\n",
      "\n",
      "\n",
      "\n"
     ]
    },
    {
     "cell_type": "markdown",
     "metadata": {
      "slideshow": {
       "slide_type": "slide"
      }
     },
     "source": [
      "**Maximum Likelihood Estimation**\n",
      "\n",
      "_likelihood of data_ (from Gauss and Laplace): probability of observing a value\n",
      "\n",
      "$L \\equiv p(x | M({\\theta}))=\\prod_{i=1}^n  p(x_i | M({\\theta}) )$\n",
      "\n",
      "$M$ model, $\\theta$ parameters\n",
      "\n",
      "Can be read as likelihood of some data value $x$, $L$ is a function of $x$\n",
      "for some fixed model parameters or, given some fixed data set, it can be considered\n",
      "as a function of the model parameters\n",
      "\n",
      "It does not have to be normalized to unity (it can take on very small numbers)\n"
     ]
    },
    {
     "cell_type": "markdown",
     "metadata": {
      "slideshow": {
       "slide_type": "slide"
      }
     },
     "source": [
      "**Constant Uncertainties (homoscedastic)**\n",
      "\n",
      "Assmue the model is a Gaussian given a known mean value\n",
      "\n",
      "$L \\equiv p(x |\\mu, \\sigma)=\\prod_{i=1}^N  {1 \\over \\sqrt{2\\pi} \\sigma} \\exp{\\left({-(x_i-\\mu)^2 \\over 2 \\sigma}\\right)}$\n",
      "\n",
      "Log of the likelihood (numbers are smaller and the maximum occurs at the same place)\n",
      "\n",
      "${\\rm lnL} \\equiv \\ln [L({\\theta})]$\n",
      "\n",
      "Differentiate wrt parameters\n",
      "\n",
      "$\\left.  d\\, {\\rm lnL}(\\mu) \\over d\\mu \\right|_{\\mu^0} \\equiv 0$\n",
      "\n",
      "Gives (for our Gaussian example)\n",
      "\n",
      "\n",
      "${\\rm lnL}(\\mu) = {\\rm constant} - \\sum_{i=1}^N { (x_i - \\mu)^2 \\over 2 \\sigma^2}$\n",
      "\n",
      "and\n",
      "\n",
      "$\\mu^0 = {1 \\over N} \\sum_{i=1}^N x_i$\n",
      "\n",
      "\n",
      "\n",
      "Standard proceedure for MLE:\n",
      "\n",
      "*    define the likelihood for the model\n",
      "*    search for the parameters the maximize the likelihood (or log likelihood)\n",
      "*    calculate the confidence intervals around this maximum\n",
      "\n",
      "\n",
      "\n",
      "\n"
     ]
    },
    {
     "cell_type": "markdown",
     "metadata": {
      "slideshow": {
       "slide_type": "slide"
      }
     },
     "source": [
      "**Confidence Intervals**\n",
      "\n",
      "For a Gaussian uncertainty distribution\n",
      "\n",
      "\n",
      "$\\sigma_{jk} =  \\left( - \\left.d^2\\ {\\rm lnL} \\over d\\theta_j \\, d\\theta_k\\right|_{\\theta=\\theta_0} \\right)^{-1/2}.$\n",
      "\n",
      "This is the expected Fisher information (expectation of the second derivative of -lnL wrt a parameter).\n",
      "\n",
      "The inverse of this gives the lower bound of the variance of any unbiased estimator of the parameters (Cramer-Rao limit). This is often used in cosmology forecasting to predict the accuracy to which you can constrain a cosmological measurement\n",
      "\n",
      "For non-Gaussian errors this is nolonger valid (but is usually ignored when forecasting models)\n",
      "\n",
      "Diagonal errors ($\\sigma_{ii}$) give the marginal errors on the parameters\n",
      "\n",
      "If $\\sigma_{ij} \\ne 0$ the errors are correlated (some combination of parameters are better constrained than others)\n",
      "\n",
      "For the Gaussian model in the previous slides\n",
      "\n",
      "\n",
      "$\\sigma_\\mu=\\left(-\\left.\\frac{d^2 \\, {\\rm lnL}(\\mu)}{d\\mu^2}\\right|_{\\mu^0}\\right)^{-1/2} = { \\sigma \\over  \\sqrt{N}}$\n"
     ]
    },
    {
     "cell_type": "markdown",
     "metadata": {
      "slideshow": {
       "slide_type": "slide"
      }
     },
     "source": [
      "**Variable Uncertainties (heteroscedastic)**\n",
      "\n",
      "\n",
      "${\\rm lnL} = {\\rm constant} - \\sum_{i=1}^N { (x_i - \\mu)^2 \\over 2 \\sigma_i^2}$\n",
      "\n",
      "and\n",
      "\n",
      "\n",
      "$\\mu^0 = {\\sum_{i}^N  w_i x_i \\over \\sum_{i}^N w_i}$\n",
      "\n",
      "where  $w_i=\\sigma_i^{-2}$ are weights based on the uncertainties (weighted arithmetic mean).\n",
      "\n",
      "The uncertainty on $\\mu^0$ is then\n",
      "\n",
      "\n",
      "$\\sigma_\\mu= \\left(\\sum_{i=1}^N {1 \\over \\sigma_i^2}\\right)^{-1/2} = \\left(\\sum_{i=1}^N w_i \\right)^{-1/2}$\n",
      "\n",
      "**Missing data**\n",
      "\n",
      "We often deal with missing data (censored) or upper limits (truncated)\n",
      "\n",
      "Truncated data impacts the analysis through the renomalization of the likelihood. For our Gaussian example   \n",
      "\n",
      "$p(x_i|\\mu, \\sigma, x_{\\rm min}, x_{\\rm max})= C(\\mu, x_{\\rm min}, x_{\\rm max}) {1 \\over \\sqrt{2\\pi} \\sigma} \\exp{\\left({-(x_i-\\mu)^2 \\over 2 \\sigma}\\right)},$\n",
      "\n",
      "with\n",
      "\n",
      "\n",
      "$C(\\mu, \\sigma, x_{\\rm min}, x_{\\rm max}) = \\left( P(x_{\\rm max}|\\mu,\\sigma) - P(x_{\\rm min}|\\mu,\\sigma)\\right)^{-1}$\n",
      "\n",
      "\n",
      "This gives\n",
      "\n",
      "\n",
      "${\\rm lnL}(\\mu) = {\\rm constant} - \\sum_{i=1}^N { (x_i - \\mu)^2 \\over 2 \\sigma^2} + N \\, \\ln\\left[ C(\\mu, \\sigma, x_{\\rm min}, x_{\\rm max}) \\right]$\n",
      "                                 \n",
      "with the third component dealing with the truncation (which is assumed to be the same for all points)\n",
      "\n",
      "\n",
      "                                      \n",
      "                                       \n",
      "                                       \n",
      "\n",
      "\n",
      "\n",
      "\n"
     ]
    },
    {
     "cell_type": "markdown",
     "metadata": {
      "slideshow": {
       "slide_type": "slide"
      }
     },
     "source": [
      "**Cost functions**\n",
      "\n",
      "MLE is the most common \"cost function\" or \"objective function\"\n",
      "\n",
      "Expectation value of the cost function is called the \"risk\"\n",
      "\n",
      "The mean integrated square error (MISE) is a commonly used risk\n",
      "\n",
      "\n",
      "${\\rm MISE} = \\int_{-\\infty}^{+\\infty} \\left[f(x) - h(x)\\right]^2 dx$\n",
      "\n",
      "tells us how close $f(x)$ is to the true $h(x)$. MISE is known as the $L_2$ norm. If we used an exponential distribution (instead of a Gaussian) this would be the $L_1$ norm."
     ]
    },
    {
     "cell_type": "markdown",
     "metadata": {
      "slideshow": {
       "slide_type": "slide"
      }
     },
     "source": [
      "**Goodness of fit**\n",
      "\n",
      "Given our estimate of the likelihood $L^0$ (for our best fit) and the distribution of $L$ or lnL how likely is it that we would get $L^0$ by chance\n",
      "\n",
      "For the Gaussian likelihood\n",
      "\n",
      "\n",
      "${\\rm lnL} = {\\rm constant} -  {1\\over 2}  \\sum_{i=1}^N\\, z_i^2 =  {\\rm constant} - {1 \\over 2} \\chi^2$\n",
      "\n",
      "with  $z_i=(x_i - \\mu)/\\sigma$. The distribution of lnL is a $\\chi^2$ with $(N-k)$ degrees of freedom ($k$ is the number of parameters in a model). $k=1$ if we derive the mean from the data.\n",
      "\n",
      "A good fit means that $\\chi^2$ per degree of freedom is\n",
      "\n",
      "$\\chi^2_{\\rm dof} = {1 \\over N-k} \\sum_{i=1}^N\\, z_i^2   \\approx 1$\n",
      "\n",
      "Outliers, underestimated uncertainties, overestimated uncertainties, poor model can all influence whether $\\chi^2_{\\rm dof} \\approx 1$\n",
      "\n"
     ]
    },
    {
     "cell_type": "code",
     "collapsed": false,
     "input": [
      "%matplotlib inline\n",
      "import numpy as np\n",
      "from scipy import stats\n",
      "from matplotlib import pyplot as plt\n",
      "\n",
      "#------------------------------------------------------------\n",
      "# Generate Dataset\n",
      "np.random.seed(1)\n",
      "\n",
      "N = 50\n",
      "L0 = 10\n",
      "dL = 0.2\n",
      "\n",
      "t = np.linspace(0, 1, N)\n",
      "L_obs = np.random.normal(L0, dL, N)\n",
      "L_obs2 = np.random.normal(L0, 20, 10)\n",
      "\n",
      "#------------------------------------------------------------\n",
      "# Plot the results\n",
      "fig = plt.figure(figsize=(8, 8))\n",
      "fig.subplots_adjust(left=0.1, right=0.95, wspace=0.05,\n",
      "                    bottom=0.1, top=0.95, hspace=0.05)\n",
      "\n",
      "y_vals = L_obs concat L_obs2\n",
      "\n",
      "#y_errs = dL\n",
      "#y_errs = dL*2.\n",
      "\n",
      "ax = fig.add_subplot(111)\n",
      "\n",
      "# compute the mean and the chi^2/dof\n",
      "mu = np.mean(y_vals)\n",
      "z = (y_vals - mu) / y_errs\n",
      "chi2 = np.sum(z ** 2)\n",
      "chi2dof = chi2 / (N - 1)\n",
      "\n",
      "# compute the standard deviations of chi^2/dof\n",
      "sigma = np.sqrt(2. / (N - 1))\n",
      "nsig = (chi2dof - 1) / sigma\n",
      "\n",
      "# plot the points with errorbars\n",
      "ax.errorbar(t, y_vals, y_errs, fmt='.k', ecolor='gray', lw=1)\n",
      "ax.plot([-0.1, 1.3], [L0, L0], ':k', lw=1)\n",
      "\n",
      "# Add labels and text\n",
      "ax.text(0.02, 0.02, r'$\\hat{\\mu} = %.2f$' % mu, ha='left', va='bottom',\n",
      "        transform=ax.transAxes, fontsize=16)\n",
      "ax.text(0.98, 0.02,\n",
      "        r'$\\chi^2_{\\rm dof} = %.2f\\, (%.2g\\,\\sigma)$' % (chi2dof, nsig),\n",
      "        ha='right', va='bottom', transform=ax.transAxes, fontsize=16)\n",
      "\n",
      "# set axis limits\n",
      "#ax.set_xlim(-0.05, 1.05)\n",
      "#ax.set_ylim(8.6, 11.4)\n",
      "\n",
      "# set ticks and labels\n",
      "#ax.yaxis.set_major_locator(plt.MultipleLocator(1))\n",
      "\n",
      "\n",
      "\n",
      "plt.show()"
     ],
     "language": "python",
     "metadata": {
      "slideshow": {
       "slide_type": "slide"
      }
     },
     "outputs": [
      {
       "ename": "SyntaxError",
       "evalue": "invalid syntax (<ipython-input-26-2460d6ecac97>, line 24)",
       "output_type": "pyerr",
       "traceback": [
        "\u001b[0;36m  File \u001b[0;32m\"<ipython-input-26-2460d6ecac97>\"\u001b[0;36m, line \u001b[0;32m24\u001b[0m\n\u001b[0;31m    y_vals = L_obs concat L_obs2\u001b[0m\n\u001b[0m                        ^\u001b[0m\n\u001b[0;31mSyntaxError\u001b[0m\u001b[0;31m:\u001b[0m invalid syntax\n"
       ]
      }
     ],
     "prompt_number": 26
    },
    {
     "cell_type": "markdown",
     "metadata": {
      "slideshow": {
       "slide_type": "slide"
      }
     },
     "source": [
      "**Model Comparison**\n",
      "\n",
      "We can create models of arbitrary complexity but does that make them the best model. We should be able to penalize models based on the number of parameters. Cross validation is one approach (we will see with regression). Another example is the Aikakae information criteria (AIC). \n",
      "\n",
      "${\\rm AIC} \\equiv  -2 \\ln\\left(L^0(M)\\right) + 2\\,k +  { 2k\\,(k+1)  \\over N - k -1}$\n",
      "\n",
      "$k$ is the number of parameters in the model (a related version is BIC, Baysian Information Criteria)\n",
      "\n"
     ]
    },
    {
     "cell_type": "code",
     "collapsed": false,
     "input": [
      "from matplotlib import pyplot as plt\n",
      "import numpy as np\n",
      "from sklearn.mixture import GMM\n",
      "\n",
      "#------------------------------------------------------------\n",
      "# Set up the dataset.\n",
      "#  We'll use scikit-learn's Gaussian Mixture Model to sample\n",
      "#  data from a mixture of Gaussians.  The usual way of using\n",
      "#  this involves fitting the mixture to data: we'll see that\n",
      "#  below.  Here we'll set the internal means, covariances,\n",
      "#  and weights by-hand.\n",
      "np.random.seed(1)\n",
      "\n",
      "gmm = GMM(3, n_iter=1)\n",
      "gmm.means_ = np.array([[-1], [0], [3]])\n",
      "gmm.covars_ = np.array([[1.5], [1], [0.5]]) ** 2\n",
      "gmm.weights_ = np.array([0.3, 0.5, 0.2])\n",
      "\n",
      "X = gmm.sample(1000)\n",
      "\n",
      "#------------------------------------------------------------\n",
      "# Learn the best-fit GMM models\n",
      "#  Here we'll use GMM in the standard way: the fit() method\n",
      "#  uses an Expectation-Maximization approach to find the best\n",
      "#  mixture of Gaussians for the data\n",
      "\n",
      "# fit models with 1-10 components\n",
      "N = np.arange(1, 11)\n",
      "models = [None for i in range(len(N))]\n",
      "\n",
      "for i in range(len(N)):\n",
      "    models[i] = GMM(N[i]).fit(X)\n",
      "\n",
      "# compute the AIC and the BIC\n",
      "AIC = [m.aic(X) for m in models]\n",
      "BIC = [m.bic(X) for m in models]\n",
      "\n",
      "#------------------------------------------------------------\n",
      "# Plot the results\n",
      "#  We'll use three panels:\n",
      "#   1) data + best-fit mixture\n",
      "#   2) AIC and BIC vs number of components\n",
      "\n",
      "fig = plt.figure(figsize=(10, 3.3))\n",
      "fig.subplots_adjust(left=0.1, right=0.97,\n",
      "                    bottom=0.17, top=0.9, wspace=0.35)\n",
      "\n",
      "\n",
      "# plot 1: data + best-fit mixture\n",
      "ax = fig.add_subplot(121)\n",
      "M_best = models[np.argmin(AIC)]\n",
      "#M_best = models[8]\n",
      "# Vary M_best (0 indexed)\n",
      "print M_best\n",
      "\n",
      "x = np.linspace(-6, 6, 1000)\n",
      "logprob, responsibilities = M_best.score_samples(x)\n",
      "pdf = np.exp(logprob)\n",
      "pdf_individual = responsibilities * pdf[:, np.newaxis]\n",
      "\n",
      "ax.hist(X, 30, normed=True, histtype='stepfilled', alpha=0.4)\n",
      "ax.plot(x, pdf, '-k')\n",
      "ax.plot(x, pdf_individual, '--k')\n",
      "ax.text(0.04, 0.9, \"AIC: %g\"%(M_best.aic(X)),\n",
      "        ha='left', va='top', transform=ax.transAxes)\n",
      "ax.set_xlabel('x')\n",
      "ax.set_ylabel('p(x)')\n",
      "\n",
      "\n",
      "# plot 2: AIC and BIC\n",
      "ax = fig.add_subplot(122)\n",
      "ax.plot(N, AIC, '-k', label='AIC')\n",
      "ax.set_xlabel('n. components')\n",
      "ax.set_ylabel('information criterion')\n",
      "ax.legend(loc=2, prop=dict(size=12))\n",
      "\n",
      "\n",
      "\n",
      "\n",
      "plt.show()"
     ],
     "language": "python",
     "metadata": {
      "slideshow": {
       "slide_type": "slide"
      }
     },
     "outputs": [
      {
       "output_type": "stream",
       "stream": "stdout",
       "text": [
        "GMM(covariance_type=diag, init_params=wmc, min_covar=0.001, n_components=3,\n",
        "  n_init=1, n_iter=100, params=wmc, random_state=None, thresh=0.01)\n"
       ]
      },
      {
       "metadata": {},
       "output_type": "display_data",
       "png": "[encoded data removed]",
       "text": [
        "<matplotlib.figure.Figure at 0x1072b6e90>"
       ]
      }
     ],
     "prompt_number": 28
    },
    {
     "cell_type": "markdown",
     "metadata": {
      "slideshow": {
       "slide_type": "slide"
      }
     },
     "source": [
      "**Hypothesis Testing**\n",
      "\n",
      "Is my sample consistent with a distribution or our my two samples consistent\n",
      "\n",
      "Null hypothesis is the sample against which you will compare (the no effect case)\n",
      "\n",
      "From the cumulative distribution H(x) the probability $p(x>x_i)$ = 1 - H(x) is the _p-value_\n",
      "\n",
      "Define a _significance level ($\\alpha$)_ at which we can reject the null hypothesis - $p<\\alpha$\n",
      "\n",
      "*    This just means we reject the null hypothesis at a significance of $\\alpha$\n",
      "\n",
      "\n",
      "\n"
     ]
    },
    {
     "cell_type": "code",
     "collapsed": false,
     "input": [
      "# flipping a coin and getting 8 tails in 10 flips at what p-value\n",
      "# can we reject that the coin is fair\n",
      "import numpy as np\n",
      "import scipy.stats as stats\n",
      "\n",
      "#set up flips\n",
      "#vary k and N\n",
      "N = 10\n",
      "k = 5\n",
      "b = 0.5\n",
      "\n",
      "print \"p-value (k > 7)\", 1. - stats.binom.cdf(k, N, b)\n",
      "\n"
     ],
     "language": "python",
     "metadata": {
      "slideshow": {
       "slide_type": "slide"
      }
     },
     "outputs": [
      {
       "output_type": "stream",
       "stream": "stdout",
       "text": [
        "p-value (k > 7) 0.376953125\n"
       ]
      }
     ],
     "prompt_number": 31
    },
    {
     "cell_type": "markdown",
     "metadata": {
      "slideshow": {
       "slide_type": "slide"
      }
     },
     "source": [
      "**Completeness and Contamination**\n",
      "\n",
      "_Type I errors:_ null hypothesis is true but rejected (false positives)\n",
      "\n",
      "_Type II errors:_ null hypothesis is false but accepted (fale negatives, missing sources), usually called $\\beta$\n",
      "\n",
      "As the significance level, $\\alpha$, decreases the number of false positives decreases and false negatives increases (i.e. we go from a 5% chance of being false to a 1% chance of being false). How we optimize depends on the problem at hand.\n",
      "\n",
      "_Multiple hypothesis testing_: the hypothesis testing is applied multiple times (the fraction of false positives can exceed $\\alpha$)\n",
      "\n",
      "If we have an image and we test pixel values such that\n",
      "\n",
      "$h(x) = (1-a) \\, h_B(x) + a \\,  h_S(x)$\n",
      "\n",
      "$h_B(x)$ is  the sky, $h_S(x)$ is the source, and $a$ is the relative weights of the two distributions\n",
      "\n",
      "$n_{\\rm spurious} = N \\, (1-a) \\, \\alpha = N \\, (1-a) \\, \\int_{x_c}^\\infty h_B(x) \\, dx$\n",
      "\n",
      "$n_{\\rm missed} = N \\, a \\, \\beta = N \\, a \\int_0^{x_c} h_S(x) \\, dx$\n",
      "\n",
      "$x_c$ is the boundary at which we classify one of the other\n",
      "\n",
      "_completeness and contamination_\n",
      "\n",
      "\n",
      "$n_{\\rm source} = N\\,a\\, - n_{\\rm missed} + n_{\\rm spurious}$\n",
      "\n",
      "_completeness_  (sensitivity or recall rate)\n",
      "\n",
      "$\\eta = {Na-n_{\\rm missed} \\over Na} = 1 - \\int_0^{x_c} h_S(x) \\, dx$\n",
      "\n",
      "_contamination_ (or false discovery rate, FDR)\n",
      "\n",
      "$\\epsilon = {n_{\\rm spurious} \\over  n_{\\rm source}}$\n",
      "\n",
      "As $x_c$ increases contamination decreases (good), but completeness decreases too (bad). \n",
      "\n",
      "This trade-off can be analyzed using the so-called _receiver operating characteristic_ (ROC) curves\n",
      "\n",
      "**Note** sample completeness involves neither $N$ nor $a$, but the sample\n",
      "contamination depends on $a$: $\\lim_{a \\rightarrow 0}(\\epsilon)$=1 (for small $a$ we can have a large sample contamination even when $x_c$ corresponds to a very small value of $\\alpha$)\n",
      "\n"
     ]
    },
    {
     "cell_type": "code",
     "collapsed": false,
     "input": [
      "import numpy as np\n",
      "from matplotlib import pyplot as plt\n",
      "\n",
      "from sklearn.naive_bayes import GaussianNB\n",
      "from sklearn.lda import LDA\n",
      "from sklearn.qda import QDA\n",
      "from sklearn.linear_model import LogisticRegression\n",
      "from sklearn.neighbors import KNeighborsClassifier\n",
      "from sklearn.tree import DecisionTreeClassifier\n",
      "from astroML.classification import GMMBayes\n",
      "\n",
      "from sklearn.metrics import precision_recall_curve, roc_curve\n",
      "\n",
      "from astroML.utils import split_samples, completeness_contamination\n",
      "from astroML.decorators import pickle_results\n",
      "from astroML.datasets import fetch_rrlyrae_combined\n",
      "\n",
      "#----------------------------------------------------------------------\n",
      "# get data and split into training & testing sets\n",
      "X, y = fetch_rrlyrae_combined()\n",
      "y = y.astype(int)\n",
      "(X_train, X_test), (y_train, y_test) = split_samples(X, y, [0.75, 0.25],\n",
      "                                                     random_state=0)\n",
      "\n",
      "\n",
      "#------------------------------------------------------------\n",
      "# Fit all the models to the training data, and cache to disk\n",
      "@pickle_results('rrlyrae_ROC.pkl')\n",
      "def compute_models(*args):\n",
      "    names = []\n",
      "    probs = []\n",
      "    for classifier, kwargs in args:\n",
      "        print classifier.__name__\n",
      "        clf = classifier(**kwargs)\n",
      "        clf.fit(X_train, y_train)\n",
      "        y_probs = clf.predict_proba(X_test)[:, 1]\n",
      "\n",
      "        names.append(classifier.__name__)\n",
      "        probs.append(y_probs)\n",
      "\n",
      "    return names, probs\n",
      "\n",
      "LRclass_weight = dict([(i, np.sum(y_train == i)) for i in (0, 1)])\n",
      "\n",
      "names, probs = compute_models((GaussianNB, {}),\n",
      "                              (LDA, {}),\n",
      "                              (QDA, {}),\n",
      "                              (LogisticRegression,\n",
      "                               dict(class_weight=LRclass_weight)),\n",
      "                              (KNeighborsClassifier,\n",
      "                               dict(n_neighbors=10)),\n",
      "                              (DecisionTreeClassifier,\n",
      "                               dict(random_state=0, max_depth=12,\n",
      "                                    criterion='entropy')),\n",
      "                              (GMMBayes, dict(n_components=3, min_covar=1E-5,\n",
      "                                              covariance_type='full')))\n",
      "\n",
      "#------------------------------------------------------------\n",
      "# Plot ROC curves and completeness/efficiency\n",
      "fig = plt.figure(figsize=(8, 8))\n",
      "fig.subplots_adjust(left=0.1, right=0.95, bottom=0.15, top=0.9, wspace=0.25)\n",
      "\n",
      "\n",
      "# ax1 will show roc curves\n",
      "ax1 = plt.subplot(111)\n",
      "\n",
      "\n",
      "labels = dict(GaussianNB='GNB',\n",
      "              LDA='LDA',\n",
      "              QDA='QDA',\n",
      "              KNeighborsClassifier='KNN',\n",
      "              DecisionTreeClassifier='DT',\n",
      "              GMMBayes='GMMB',\n",
      "              LogisticRegression='LR')\n",
      "\n",
      "thresholds = np.linspace(0, 1, 1001)[:-1]\n",
      "\n",
      "# iterate through and show results\n",
      "for name, y_prob in zip(names, probs):\n",
      "    fpr, tpr, thresh = roc_curve(y_test, y_prob)\n",
      "\n",
      "    # add (0, 0) as first point\n",
      "    fpr = np.concatenate([[0], fpr])\n",
      "    tpr = np.concatenate([[0], tpr])\n",
      "\n",
      "    ax1.plot(fpr, tpr, label=labels[name])\n",
      "\n",
      "\n",
      "ax1.set_xlim(0, 0.04)\n",
      "ax1.set_ylim(0, 1.02)\n",
      "ax1.xaxis.set_major_locator(plt.MaxNLocator(5))\n",
      "ax1.set_xlabel('false positive rate')\n",
      "ax1.set_ylabel('true positive rate')\n",
      "ax1.legend(loc=4, prop=dict(size=12))\n",
      "\n",
      "\n",
      "plt.show()"
     ],
     "language": "python",
     "metadata": {
      "slideshow": {
       "slide_type": "slide"
      }
     },
     "outputs": [
      {
       "output_type": "stream",
       "stream": "stdout",
       "text": [
        "@pickle_results: using precomputed results from 'rrlyrae_ROC.pkl'\n"
       ]
      },
      {
       "metadata": {},
       "output_type": "display_data",
       "png": "[encoded data removed]",
       "text": [
        "<matplotlib.figure.Figure at 0x10cb87e90>"
       ]
      }
     ],
     "prompt_number": 53
    },
    {
     "cell_type": "markdown",
     "metadata": {
      "slideshow": {
       "slide_type": "slide"
      }
     },
     "source": [
      "**Comparison of Distributions**\n",
      "\n",
      "Are two distributions the same, is my data drawn from a known distribution?\n",
      "\n",
      "**Note** we have to be careful when we take subsets from distributions not to bias our comparison (e.g. if we took a sample of people who did poorly on a test, gave them extra instruction and then retested them, even without the extra help their results would regress towards the mean and we would see some improvement).\n",
      "\n",
      "_Kolmogorov-Smirnov Test (K-S)_\n",
      "\n",
      "Dates from 1933, compares the cumulative distribution of either two samples or one sample to a known distribution\n",
      "\n",
      "Sort and rank order f(x) and create the normalize cumulative distribution F(x)\n",
      "\n",
      "K-S test finds the maximum deviation between the two cumulative distributions\n",
      "\n",
      "$D = \\max{|F_1(x1)-F_2(x2)|}$\n",
      "\n",
      "with $0\\le D \\le 1$. The probability of getting a value $D$ by chance (even if we dont know the underlying distribution) is\n",
      "\n",
      "$Q_{\\rm KS}(\\lambda) = 2 \\sum_{k=1}^\\infty (-1)^{k-1} e^{-2k^2\\lambda^2}$\n",
      "\n",
      "with \n",
      "\n",
      "$\\lambda = \\left(0.12 + \\sqrt{n_e} + {0.11 \\over \\sqrt{n_e}}\\right) D$\n",
      "\n",
      "and the effective number of points $n_e$\n",
      "\n",
      "$n_e = { N_1 \\, N_2 \\over N_1 + N_2}$\n",
      "\n",
      "\n",
      "If $n_e > 10$ we can approximate the value of $D$ corresponding to a probability $\\alpha$ as\n",
      "\n",
      "$D_{\\rm KS} = { C(\\alpha) \\over \\sqrt{n_e}}$\n",
      "\n",
      "where $C(\\alpha)$ is a look up table (C(0.01)=1.63)\n",
      "\n",
      "If $n_e=100$, then $D>D_{\\rm KS}=0.163$ would arise by chance in only 1% of all\n",
      "trials. If the actual data-based value is indeed 0.163, we can reject\n",
      "the null hypothesis that the data were drawn from the same (unknown)\n",
      "distribution, with our decision being correct in 99 out of 100 cases.\n",
      "\n",
      "\n",
      "Comparing two samples is called the \"two-sample\" K-S test, comparing a sample against a known distribution is called a \"one-sample\" K-S test. For this case $n_e = N$\n",
      "\n",
      "**K-S tests are sensitive to the center of a distribution rather than outliers** (as it is rank based). The Anderson-Darling test is more sensitive to outliers\n",
      "\n",
      "There are variants of 2D (and higher) K-S tests (see Numerical Recipes) but these are not as effective as the 1D case\n",
      "\n",
      "**Demonstrate this by implementing the Anderson-Darling test for example data sets (see below)**\n"
     ]
    },
    {
     "cell_type": "code",
     "collapsed": false,
     "input": [
      "%matplotlib inline\n",
      "import numpy as np\n",
      "from scipy import stats\n",
      "vals1 = np.random.normal(loc=0., scale=1., size = 10000.)\n",
      "vals2 = np.random.normal(loc=0., scale=1., size = 10000.)\n",
      "#df = 3\n",
      "#vals2 = np.random.standard_t(df,size=10000.)\n",
      "\n",
      "D, pval = stats.ks_2samp(vals1,vals2)\n",
      "\n",
      "DDist, pvalDist = stats.kstest(vals1,\"norm\")\n",
      "\n",
      "fig = plt.figure(figsize=(16, 8))\n",
      "fig.subplots_adjust(left=0.15, right=0.95,\n",
      "                    bottom=0.1, top=0.95,\n",
      "                    hspace=0.1)\n",
      "ax = fig.add_subplot(121)\n",
      "\n",
      "ax.hist(vals1, bins=50, normed=True, histtype='stepfilled', alpha=0.5)\n",
      "ax.hist(vals2, bins=50, normed=True, histtype='stepfilled', alpha=0.5)\n",
      "\n",
      "ax = fig.add_subplot(122)\n",
      "\n",
      "ax.hist(vals1, bins=50, normed=True, histtype='step', cumulative=True)\n",
      "ax.hist(vals2, bins=50, normed=True, histtype='step', cumulative=True)\n",
      "\n",
      "ax.text(0.04, 0.9, \"\\Large KS D: %.3g  p-value %.4g\"%(D,pval),\n",
      "        ha='left', va='top', transform=ax.transAxes)\n",
      "\n",
      "ax.text(0.04, 0.8, \"\\Large KS (normal) D: %.3g  p-value %.4g\"%(DDist,pvalDist),\n",
      "        ha='left', va='top', transform=ax.transAxes)\n",
      "\n",
      "plt.show()"
     ],
     "language": "python",
     "metadata": {
      "slideshow": {
       "slide_type": "slide"
      }
     },
     "outputs": [
      {
       "metadata": {},
       "output_type": "display_data",
       "png": "[encoded data removed]",
       "text": [
        "<matplotlib.figure.Figure at 0x100496110>"
       ]
      }
     ],
     "prompt_number": 130
    },
    {
     "cell_type": "markdown",
     "metadata": {
      "slideshow": {
       "slide_type": "slide"
      }
     },
     "source": [
      "**Mann-Whitney-U test**\n",
      "\n",
      "Also known as the Mann-Whitney-Wilcoxon test is a test that two distributions are drawn from the same distribution but with different locations. Sensitive to differences in the medians of the distributions\n",
      "\n",
      "Process is to concatinate two samples and sort them. U statistic is counts, for each value in the fisrt sample, the number of entries in the second sample with smaller rank. The sum of these counts is U and the minimum (when the samples are reversed) gives the significance.\n",
      "\n",
      "For samples $N_1$ and $N_2 > 20$\n",
      "\n",
      "$U_1 = R_1 - {N_1(N_1 - 1) \\over 2}$\n",
      "\n",
      "$R_1$ is the sum of ranks for sample 1. U is then the smaller of $U_1$ or $U_2$"
     ]
    },
    {
     "cell_type": "code",
     "collapsed": false,
     "input": [
      "#Mann-Whitney U test\n",
      "import numpy as np\n",
      "from scipy import stats\n",
      "vals1 = np.random.normal(loc=0., scale=1., size = 10000.)\n",
      "\n",
      "offset = 1.\n",
      "vals2 = np.random.normal(loc=offset, scale=1., size = 10000.)\n",
      "\n",
      "\n",
      "fig = plt.figure(figsize=(16, 8))\n",
      "fig.subplots_adjust(left=0.15, right=0.95,\n",
      "                    bottom=0.1, top=0.95,\n",
      "                    hspace=0.1)\n",
      "ax = fig.add_subplot(121)\n",
      "ax.hist(vals1, bins=50, normed=True, histtype='stepfilled', alpha=0.5)\n",
      "ax.hist(vals2, bins=50, normed=True, histtype='stepfilled', alpha=0.5)\n",
      "\n",
      "ax = fig.add_subplot(122)\n",
      "\n",
      "N = np.linspace(-2,2,40)\n",
      "uTest = [stats.mannwhitneyu((vals1 + testOffset), vals2) for testOffset in N]\n",
      "\n",
      "ax.plot(N, tuple(x[1] for x in uTest))\n",
      "ax.set_yscale('log')\n",
      "\n",
      "plt.show()"
     ],
     "language": "python",
     "metadata": {
      "slideshow": {
       "slide_type": "slide"
      }
     },
     "outputs": [
      {
       "metadata": {},
       "output_type": "display_data",
       "png": "[encoded data removed]",
       "text": [
        "<matplotlib.figure.Figure at 0x10ca92fd0>"
       ]
      }
     ],
     "prompt_number": 155
    },
    {
     "cell_type": "markdown",
     "metadata": {
      "slideshow": {
       "slide_type": "slide"
      }
     },
     "source": [
      "For identical sized data (e.g. same population before and after some effect) the Wilcoxon signed-rank is the appropriate test. This is based on differences $y_i = x1_i - x2_i$, (the values with $y_i=0$\n",
      "are excluded). The sample is ordered by $|y_i|$, resulting in the rank $R_i$ for each pair, and each pair is assigned $\\Phi_i=1$ if $x1_i>x2_i$ and 0 otherwise. \n",
      "\n",
      "\n",
      "$W_+ = \\sum_i^m \\Phi_i R_i$\n",
      "\n",
      "Analogously, $W_{-}$ is the sum of all the ranks with $y_i<0$, and the statistic $T$ is the smaller of\n",
      "the two.  For $m$ larger than about 20,  the behavior of $T$ can be well approximated\n",
      "with a Gaussian distribution, $N(\\mu_T,\\sigma_T)$, of the variable\n",
      "\n",
      "$z = {T - \\mu_T \\over \\sigma_T}$\n",
      "\n",
      "with\n",
      "\n",
      "\n",
      "$\\mu_T =  {N (2N+1) \\over 2}$\n",
      "\n",
      "and\n",
      "\n",
      "$\\sigma_T =  N \\sqrt{ (2N+1)  \\over 12}$\n"
     ]
    },
    {
     "cell_type": "markdown",
     "metadata": {
      "slideshow": {
       "slide_type": "slide"
      }
     },
     "source": [
      "**Is the Distribution Gaussian**\n",
      "\n",
      "The _K-S test_ can be used:  if $\\mu$ and $\\sigma$ are determined from\n",
      "the same data set the behavior of $Q_{\\rm KS}$ has a distribution known as the Lilliefors distribution (and determined empirically from Monte-Carlo simulations)\n",
      "\n",
      "The _Anderson--Darling test_ is based on \n",
      "\n",
      "$A^2 = -N - {1\\over N}\\sum_{i=1}^N [(2i-1)\\ln (F_i) + (2N-2i+1)\\ln(1-F_i)]$\n",
      "\n",
      "where $F_i$ is the $i$th value of the cumulative distribution\n",
      "function of $z_i$ (assumed to be in ascending order), which is defined as\n",
      "\n",
      "$z_i = { x_i - \\mu \\over \\sigma}$\n",
      "\n",
      "In this expression, either one or both of $\\mu$ and $\\sigma$ can be\n",
      "known, or determined from data. Depending on which parameters are\n",
      "determined from data, the statistical behavior of $A^2$\n",
      "varies. If _both_ $\\mu$ and $\\sigma$ are estimated\n",
      "from data then $A^2$\n",
      "needs to be multiplied by ($1+4/N-25/N^2$).\n",
      "\n",
      "The _Shapiro-Wilk test_ is based on both data values, $x_i$, and data\n",
      "ranks, $R_i$ \n",
      "\n",
      "$W =  {\\left( \\sum_{i=1}^N a_i R_i \\right) ^2  \\over   \\sum_{i=1}^N (x_i-\\overline{x})^2 }$\n",
      "\n",
      "where constants $a_i$ encode the expected values of the order statistics for random variables\n",
      "sampled from the standard normal distribution (the test's null hypothesis). The Shapiro--Wilk\n",
      "test is very sensitive to non-Gaussian tails of the distribution (\"outliers\"), but not as much\n",
      "to detailed departures from Gaussianity in the distribution's core.  \n"
     ]
    },
    {
     "cell_type": "code",
     "collapsed": false,
     "input": [
      "#Anderson Darling and Shapir-Wilk tests\n",
      "import numpy as np\n",
      "from scipy import stats\n",
      "x = np.random.normal(100, 10, 1000)\n",
      "#x = np.random.poisson(lam=100.0,size=1000)\n",
      "\n",
      "#Anderson-Darling\n",
      "# if A is larger than the crit values (for the corresponding sig level)\n",
      "# the null hypothesis that the data come from the chosen distribution can be rejected.\n",
      "A, crit, sig = stats.anderson(x, 'norm')\n",
      "print \"Anderson-Darling\",A, crit, sig\n",
      "\n",
      "#Shapiro-Wilk\n",
      "# W statistic value and associated p-value at which you can reject the null hypothesis\n",
      "W, pval = stats.shapiro(x)\n",
      "print \"Shapiro-Wilk\",W,pval\n",
      "\n"
     ],
     "language": "python",
     "metadata": {
      "slideshow": {
       "slide_type": "slide"
      }
     },
     "outputs": [
      {
       "output_type": "stream",
       "stream": "stdout",
       "text": [
        "Anderson-Darling 0.187868904743 [ 0.574  0.653  0.784  0.914  1.088] [ 15.   10.    5.    2.5   1. ]\n",
        "Shapiro-Wilk 0.999042987823 0.894411683083\n"
       ]
      }
     ],
     "prompt_number": 169
    }
   ],
   "metadata": {}
  }
 ]
}