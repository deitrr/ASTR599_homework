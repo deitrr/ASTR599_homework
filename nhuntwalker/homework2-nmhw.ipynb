{
 "metadata": {
  "name": ""
 },
 "nbformat": 3,
 "nbformat_minor": 0,
 "worksheets": [
  {
   "cells": [
    {
     "cell_type": "heading",
     "level": 3,
     "metadata": {},
     "source": [
      "Requirements:"
     ]
    },
    {
     "cell_type": "raw",
     "metadata": {},
     "source": [
      "\u2022 Create a new notebook or a copy of the other one\n",
      "\u2022 Compute the expected number of stars per mass bin\n",
      "\u2022 Compute the mass enclosed in a given mass range\n",
      "\u2022 Be able to draw random masses from an IMF\n",
      "\u2022 What is the average mass predicted by an IMF?"
     ]
    },
    {
     "cell_type": "code",
     "collapsed": false,
     "input": [
      "import numpy as np\n",
      "import matplotlib.pyplot as plt\n",
      "%matplotlib inline"
     ],
     "language": "python",
     "metadata": {},
     "outputs": [],
     "prompt_number": 1
    },
    {
     "cell_type": "code",
     "collapsed": false,
     "input": [
      "\n",
      "class nmhwIMF(object):\n",
      "    \"\"\"\n",
      "    Nicholas Martin Hunt-Walker's IMF object class\n",
      "    Let you define an IMF as multiple power-laws\n",
      "    \"\"\"\n",
      "    \n",
      "    def __init__(self,power):\n",
      "        \"\"\"\n",
      "        Constructor function\n",
      "        p: the exponent(s) of the IMF power law\n",
      "            an array if more than one plaw\n",
      "        \"\"\"\n",
      "        Mlims = [0.08,120.0]\n",
      "        power = -power\n",
      "        norm = 1./((1./(1. + power))*(Mlims[-1]**(1.+power) - Mlims[0]**(1.+power)))\n",
      "        self.power = power\n",
      "        self.Mlims = Mlims\n",
      "        self.norm = norm\n",
      "        \n",
      "    def getAvgMass(self, Mmin, Mmax):\n",
      "        \"\"\"\n",
      "        Get the average mass over a given mass range\n",
      "        < M > = integral(M * imf * dM) / integral(imf * dM)\n",
      "        \"\"\"\n",
      "        Mmin = Mmin or self.Mlims[0]\n",
      "        Mmax = Mmax or self.Mlims[-1]\n",
      "        top = 1/(2+self.power) * (Mmax**(2+self.power) - Mmin**(2+self.power))\n",
      "        bottom = 1/(1+self.power) * (Mmax**(1+self.power) - Mmin**(1+self.power))\n",
      "        return top/bottom\n",
      "        \n",
      "    def getValue(self, m):\n",
      "        \"\"\"\n",
      "        Returns the value of the normalized IMF at a given mass m\n",
      "        Note: m can be iterable\n",
      "        \"\"\"\n",
      "        return self.norm*(m**self.power)\n",
      "    \n",
      "    def getEnclosedMass(self, Mmin, Mmax):\n",
      "        \"\"\"\n",
      "        Get the enclosed mass over a given mass range for N stars.\n",
      "        \"\"\"\n",
      "        Mmin = Mmin or self.Mlims[0]\n",
      "        Mmax = Mmax or self.Mlims[-1]\n",
      "        Mtot = 1./(2.+self.power)*(Mmax**(2. + self.power) - Mmin**(2. + self.power))*self.norm\n",
      "        return Mtot\n",
      "    \n",
      "    def getEnclosedNstar(self, Mmin, Mmax):\n",
      "        \"\"\"\n",
      "        Get the enclosed dN over a given mass range\n",
      "        \"\"\"\n",
      "        Mmin = Mmin or self.Mlims[0]\n",
      "        Mmax = Mmax or self.Mlims[-1]\n",
      "        Ntot = 1/(1+self.power)*(Mmax**(1 + self.power) - Mmin**(1 + self.power))*self.norm\n",
      "        return Ntot\n",
      "       \n",
      "    def random(self, N, Mmin, Mmax):\n",
      "        \"\"\"\n",
      "        Draw samples from this distribution.\n",
      "        Samples are distributed over the interval [massMin, massMax]\n",
      "        Interval is truncated to the IMF range definition if it extends beyond it.\n",
      "        N: the number of stars to be drawn from our IMF\n",
      "        Mmin: the lower limit of our mass range.\n",
      "            Default is self.Mrange[0]\n",
      "        Mmax: the upper limit of our mass range.\n",
      "            Default is self.Mrange[-1]\n",
      "        \"\"\"\n",
      "        Mmin = Mmin or self.Mlims[0]\n",
      "        Mmax = Mmax or self.Mlims[-1]\n",
      "        \n",
      "        ptileRange = [self.cumDist(Mmin),self.cumDist(Mmax)]\n",
      "        ptiles = np.random.random(N)*(ptileRange[-1]-ptileRange[0])+ptileRange[0]\n",
      "        masses = self.invCumDist(ptiles)\n",
      "        return masses\n",
      "   \n",
      "    def plotImf(self, **kwargs):\n",
      "        plt.figure()\n",
      "        ax = plt.subplot(111)\n",
      "        Mrange = np.arange(self.Mlims[0],self.Mlims[-1])\n",
      "        dNdM = self.norm*Mrange**self.power\n",
      "        \n",
      "        plt.plot(Mrange,dNdM,c='b',ls='-', **kwargs)\n",
      "        plt.xlabel('Mass (M$_\\odot$)')\n",
      "        plt.ylabel('dN/dM')\n",
      "        ax.set_yscale('log'),ax.set_xscale('log')\n",
      "        plt.show()\n",
      "        \n",
      "    def cumDist(self, Mupper):\n",
      "        distfunc = self.norm*(1./(1.+self.power))*(Mupper**(1+self.power) - self.Mlims[0]**(1+self.power))\n",
      "        return distfunc\n",
      "    \n",
      "    def invCumDist(self, percentile):\n",
      "        Mupper = (((1+self.power)/self.norm)*percentile + self.Mlims[0]**(1+self.power))**(1./(1.+self.power))\n",
      "        return Mupper\n",
      "    \n",
      "    def __call__(self, m):\n",
      "        return self.getValue(m)\n",
      "        \n",
      "        \n",
      "        \n",
      "        "
     ],
     "language": "python",
     "metadata": {},
     "outputs": [],
     "prompt_number": 73
    },
    {
     "cell_type": "code",
     "collapsed": false,
     "input": [
      "imf = nmhwIMF(2.35)\n",
      "print 'dN/dM for Mass %.2f = %.3f' % (1.,imf.getValue(1.))\n",
      "print 'The average mass of the entire IMF is %.3f solar masses' % imf.getAvgMass(None,None)\n",
      "print 'dN/dM for the average mass = %.3f' % imf.getValue(imf.getAvgMass(2,5))\n",
      "print imf.norm\n",
      "print imf.power\n",
      "print imf.plotImf(marker='.')\n"
     ],
     "language": "python",
     "metadata": {},
     "outputs": [
      {
       "output_type": "stream",
       "stream": "stdout",
       "text": [
        "dN/dM for Mass 1.00 = 0.045\n",
        "The average mass of the entire IMF is 0.285 solar masses\n",
        "dN/dM for the average mass = 0.003\n",
        "0.0446198023184\n",
        "-2.35\n"
       ]
      },
      {
       "metadata": {},
       "output_type": "display_data",
       "png": "[encoded data removed]",
       "text": [
        "<matplotlib.figure.Figure at 0x10a53ca50>"
       ]
      },
      {
       "output_type": "stream",
       "stream": "stdout",
       "text": [
        "None\n"
       ]
      }
     ],
     "prompt_number": 74
    },
    {
     "cell_type": "code",
     "collapsed": false,
     "input": [
      "low,high = 0.08,120\n",
      "print 'The total enclosed mass within %.1f to %.1f solar masses is %.2f' % (low,high,imf.getEnclosedMass(low,high))\n",
      "print 'We expect %f stars between %.2f and %.2f solar masses' % (imf.getEnclosedNstar(low,high),low,high)\n",
      "\n"
     ],
     "language": "python",
     "metadata": {},
     "outputs": [
      {
       "output_type": "stream",
       "stream": "stdout",
       "text": [
        "The total enclosed mass within 0.1 to 120.0 solar masses is 0.28\n",
        "We expect 1.000000 stars between 0.08 and 120.00 solar masses\n"
       ]
      }
     ],
     "prompt_number": 75
    },
    {
     "cell_type": "code",
     "collapsed": false,
     "input": [
      "masses = 10**np.arange(np.log10(0.08),np.log10(120.),0.001)\n",
      "percentile = []\n",
      "for M in masses:\n",
      "    percentile.append(imf.cumDist(M))"
     ],
     "language": "python",
     "metadata": {},
     "outputs": [],
     "prompt_number": 81
    },
    {
     "cell_type": "code",
     "collapsed": false,
     "input": [
      "plt.figure()\n",
      "ax = plt.subplot(111)\n",
      "plt.plot(masses,percentile)\n",
      "ax.set_xscale('log')\n",
      "plt.xlim(0.05,100)\n",
      "plt.ylim(0,1)\n",
      "plt.ylabel('Sample Quantiles')\n",
      "plt.xlabel('Mass M$_\\odot$')\n",
      "plt.figure()"
     ],
     "language": "python",
     "metadata": {},
     "outputs": [
      {
       "metadata": {},
       "output_type": "pyout",
       "prompt_number": 85,
       "text": [
        "<matplotlib.figure.Figure at 0x108f85990>"
       ]
      },
      {
       "metadata": {},
       "output_type": "display_data",
       "png": "[encoded data removed]",
       "text": [
        "<matplotlib.figure.Figure at 0x106cd9fd0>"
       ]
      },
      {
       "metadata": {},
       "output_type": "display_data",
       "text": [
        "<matplotlib.figure.Figure at 0x108f85990>"
       ]
      }
     ],
     "prompt_number": 85
    },
    {
     "cell_type": "code",
     "collapsed": false,
     "input": [
      "masses = imf.random(1E7,0.08,60.)"
     ],
     "language": "python",
     "metadata": {},
     "outputs": [],
     "prompt_number": 88
    },
    {
     "cell_type": "code",
     "collapsed": false,
     "input": [
      "print min(masses),max(masses)"
     ],
     "language": "python",
     "metadata": {},
     "outputs": [
      {
       "output_type": "stream",
       "stream": "stdout",
       "text": [
        "0.0800000001675 "
       ]
      },
      {
       "output_type": "stream",
       "stream": "stdout",
       "text": [
        "59.9926241518\n"
       ]
      }
     ],
     "prompt_number": 89
    },
    {
     "cell_type": "code",
     "collapsed": false,
     "input": [
      "plt.figure()\n",
      "ax = plt.subplot(111)\n",
      "plt.hist(masses,bins=100)\n",
      "plt.xlim(0.08,100)\n",
      "plt.ylim(1,1E8)\n",
      "ax.set_yscale('log')\n",
      "ax.set_xscale('log')\n",
      "plt.ylabel('N(stars)')\n",
      "plt.xlabel('Mass M$_\\odot$')\n",
      "plt.show()"
     ],
     "language": "python",
     "metadata": {},
     "outputs": [
      {
       "metadata": {},
       "output_type": "display_data",
       "png": "[encoded data removed]",
       "text": [
        "<matplotlib.figure.Figure at 0x10a51ab50>"
       ]
      }
     ],
     "prompt_number": 94
    },
    {
     "cell_type": "code",
     "collapsed": false,
     "input": [
      "H,bins = np.histogram(masses,bins=100)\n",
      "print H"
     ],
     "language": "python",
     "metadata": {},
     "outputs": [
      {
       "output_type": "stream",
       "stream": "stdout",
       "text": [
        "[9443919  320087   95961   43910   25017   15342   10362    7556    5718\n",
        "    4351    3407    2711    2282    1901    1651    1413    1192    1112\n",
        "     939     801     734     617     600     497     460     425     406\n",
        "     409     360     306     281     268     232     241     220     186\n",
        "     199     184     157     186     158     157     116     138     137\n",
        "     123      94     120     109      86      93      96      96      73\n",
        "      78      79      75      68      64      42      61      60      58\n",
        "      43      54      40      53      43      34      38      53      46\n",
        "      48      41      46      39      33      36      51      32      28\n",
        "      24      28      16      25      34      28      22      29      28\n",
        "      19      19      18      28      24      30      28      23      17\n",
        "      21]\n"
       ]
      }
     ],
     "prompt_number": 98
    },
    {
     "cell_type": "code",
     "collapsed": false,
     "input": [],
     "language": "python",
     "metadata": {},
     "outputs": []
    }
   ],
   "metadata": {}
  }
 ]
}